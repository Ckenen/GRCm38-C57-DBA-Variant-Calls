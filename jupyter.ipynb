{
 "cells": [
  {
   "cell_type": "code",
   "execution_count": 13,
   "id": "42182864",
   "metadata": {
    "ExecuteTime": {
     "end_time": "2023-03-07T05:27:46.819634Z",
     "start_time": "2023-03-07T05:27:46.814268Z"
    }
   },
   "outputs": [],
   "source": [
    "import os\n",
    "import pysam"
   ]
  },
  {
   "cell_type": "code",
   "execution_count": 14,
   "id": "ea7c0999",
   "metadata": {
    "ExecuteTime": {
     "end_time": "2023-03-07T05:28:36.556498Z",
     "start_time": "2023-03-07T05:27:55.682901Z"
    }
   },
   "outputs": [],
   "source": [
    "path1 = \"data/C57BL_6NJ.mgp.v5.snps.dbSNP142.vcf.gz\"\n",
    "path2 = \"data/DBA_2J.mgp.v5.snps.dbSNP142.vcf.gz\"\n",
    "path3 = \"results/C57BL_6NJ_DBA_2J.mgp.v5.snps.dbSNP142.vcf\"\n",
    "\n",
    "def load_vcf(path):\n",
    "    snps = dict()\n",
    "    with pysam.VariantFile(path) as f:\n",
    "        for record in f:\n",
    "            snps[(record.chrom, record.pos)] = record\n",
    "    return snps\n",
    "\n",
    "snps1 = load_vcf(path1)\n",
    "snps2 = load_vcf(path2)"
   ]
  },
  {
   "cell_type": "code",
   "execution_count": 19,
   "id": "c997ffd2",
   "metadata": {
    "ExecuteTime": {
     "end_time": "2023-03-07T05:30:32.636406Z",
     "start_time": "2023-03-07T05:30:16.112051Z"
    }
   },
   "outputs": [
    {
     "name": "stdout",
     "output_type": "stream",
     "text": [
      "140111\t5872394\t5938142\n"
     ]
    }
   ],
   "source": [
    "ps1 = snps1.keys()\n",
    "ps2 = snps2.keys()\n",
    "ps3 = list(sorted(ps1 | ps2))\n",
    "print(len(ps1), len(ps2), len(ps3), sep=\"\\t\")"
   ]
  },
  {
   "cell_type": "code",
   "execution_count": 85,
   "id": "032f3c7b",
   "metadata": {
    "ExecuteTime": {
     "end_time": "2023-03-07T06:07:54.448542Z",
     "start_time": "2023-03-07T06:06:42.116910Z"
    }
   },
   "outputs": [
    {
     "data": {
      "text/plain": [
       "5183895"
      ]
     },
     "execution_count": 85,
     "metadata": {},
     "output_type": "execute_result"
    }
   ],
   "source": [
    "array = []\n",
    "\n",
    "for ps in ps3:\n",
    "    snp1 = snps1.get(ps)\n",
    "    snp2 = snps2.get(ps)\n",
    "    if snp1 is None:\n",
    "        if snp2 is None:\n",
    "            assert False\n",
    "        else:\n",
    "            # only DBA\n",
    "            snp = snp2\n",
    "            chrom = \"chr%s\" % snp.chrom\n",
    "            pos = snp.pos\n",
    "            ref = snp.ref\n",
    "            i1, i2 = snp.samples[\"DBA_2J\"][\"GT\"]\n",
    "            a1, a2 = snp.alleles[i1], snp.alleles[i2]\n",
    "            if list(snp.filter)[0] != \"PASS\":\n",
    "                continue\n",
    "            assert a1 == a2\n",
    "            assert a1 != ref\n",
    "            array.append([chrom, pos, ref, [ref, a1]])\n",
    "    else:\n",
    "        if snp2 is None:\n",
    "            # only C57\n",
    "            snp = snp1\n",
    "            chrom = \"chr%s\" % snp.chrom\n",
    "            pos = snp.pos\n",
    "            ref = snp.ref\n",
    "            i1, i2 = snp.samples[\"C57BL_6NJ\"][\"GT\"]\n",
    "            a1, a2 = snp.alleles[i1], snp.alleles[i2]\n",
    "            if list(snp.filter)[0] != \"PASS\":\n",
    "                continue\n",
    "            assert a1 == a2\n",
    "            assert a1 != ref\n",
    "            array.append([chrom, pos, ref, [a1, ref]])\n",
    "        else:\n",
    "            # both\n",
    "            snp = snp1\n",
    "            chrom = \"chr%s\" % snp.chrom\n",
    "            pos = snp.pos\n",
    "            ref = snp.ref\n",
    "            \n",
    "            snp = snp1\n",
    "            i1, i2 = snp.samples[\"C57BL_6NJ\"][\"GT\"]\n",
    "            a1, a2 = snp.alleles[i1], snp.alleles[i2]\n",
    "            if list(snp.filter)[0] != \"PASS\":\n",
    "                continue\n",
    "            assert a1 == a2\n",
    "            assert a1 != ref\n",
    "            a_c57 = a1\n",
    "            \n",
    "            snp = snp2\n",
    "            i1, i2 = snp.samples[\"DBA_2J\"][\"GT\"]\n",
    "            a1, a2 = snp.alleles[i1], snp.alleles[i2]\n",
    "            if list(snp.filter)[0] != \"PASS\":\n",
    "                continue\n",
    "            assert a1 == a2\n",
    "            assert a1 != ref\n",
    "            a_dba = a1\n",
    "            \n",
    "            array.append([chrom, pos, ref, [a_c57, a_dba]])\n",
    "len(array)"
   ]
  },
  {
   "cell_type": "code",
   "execution_count": 87,
   "id": "afbd2706",
   "metadata": {
    "ExecuteTime": {
     "end_time": "2023-03-07T06:11:02.211788Z",
     "start_time": "2023-03-07T06:10:30.665045Z"
    }
   },
   "outputs": [],
   "source": [
    "with pysam.VariantFile(path1) as f, open(path3, \"w+\") as fw:\n",
    "    fw.write(\"##fileformat=VCFv4.2\\n\")\n",
    "    fw.write(\"##FORMAT=<ID=GT,Number=1,Type=String,Description=\\\"Genotype\\\">\\n\")\n",
    "    fw.write(\"##FORMAT=<ID=PS,Number=1,Type=String,Description=\\\"Phase set for GT\\\">\\n\")\n",
    "    for chrom in f.header.contigs:\n",
    "        fw.write(\"##contig=<ID=chr%s,length=%d>\\n\" % (chrom, f.header.contigs[chrom].length))\n",
    "    fw.write(\"#CHROM\\tPOS\\tID\\tREF\\tALT\\tQUAL\\tFILTER\\tINFO\\tFORMAT\\tC57_6NJ/DBA_2J\\n\")\n",
    "    for chrom, pos, ref, (pat, mat) in array:\n",
    "        alleles = [ref]\n",
    "        if pat not in alleles:\n",
    "            alleles.append(pat)\n",
    "        if mat not in alleles:\n",
    "            alleles.append(mat)\n",
    "        gt = \"%s|%s\" % (alleles.index(pat), alleles.index(mat))\n",
    "        line = \"\\t\".join(map(str, [chrom, pos, \".\", ref, \",\".join(alleles[1:]), \".\", \"PASS\", \".\", \"GT:PS\", gt + \":PATMAT\"]))\n",
    "        fw.write(line + \"\\n\")\n",
    "assert os.system(\"bgzip %s\" % path3) == 0\n",
    "assert os.system(\"tabix -p vcf %s.gz\" % path3) == 0"
   ]
  }
 ],
 "metadata": {
  "kernelspec": {
   "display_name": "Python 3",
   "language": "python",
   "name": "python3"
  },
  "language_info": {
   "codemirror_mode": {
    "name": "ipython",
    "version": 3
   },
   "file_extension": ".py",
   "mimetype": "text/x-python",
   "name": "python",
   "nbconvert_exporter": "python",
   "pygments_lexer": "ipython3",
   "version": "3.6.15"
  }
 },
 "nbformat": 4,
 "nbformat_minor": 5
}
